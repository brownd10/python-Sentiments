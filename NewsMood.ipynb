{
 "cells": [
  {
   "cell_type": "code",
   "execution_count": 1,
   "metadata": {},
   "outputs": [],
   "source": [
    "# Create dependencies\n",
    "import json\n",
    "import tweepy\n",
    "import pandas as pd\n",
    "import numpy as np\n",
    "import time\n",
    "import seaborn as ns\n",
    "import matplotlib.pyplot as plt\n",
    "import textblob\n",
    "from config import consumer_key, consumer_secret, access_token, access_token_secret"
   ]
  },
  {
   "cell_type": "code",
   "execution_count": 2,
   "metadata": {},
   "outputs": [],
   "source": [
    "# Import sentiment analyzer\n",
    "from vaderSentiment.vaderSentiment import SentimentIntensityAnalyzer\n",
    "analyzer = SentimentIntensityAnalyzer()"
   ]
  },
  {
   "cell_type": "code",
   "execution_count": 3,
   "metadata": {},
   "outputs": [],
   "source": [
    "# Setup Tweepy API Authentification\n",
    "auth = tweepy.OAuthHandler(consumer_key, consumer_secret)\n",
    "auth.set_access_token(access_token, access_token_secret)\n",
    "api = tweepy.API(auth, parser=tweepy.parsers.JSONParser())"
   ]
  },
  {
   "cell_type": "code",
   "execution_count": 4,
   "metadata": {},
   "outputs": [],
   "source": [
    "# Target User accounts\n",
    "target_terms = (\"@BBCNews\", \"@CBSNews\", \"@CNN\", \"@FoxNews\", \"@nytimes\")"
   ]
  },
  {
   "cell_type": "code",
   "execution_count": 6,
   "metadata": {},
   "outputs": [],
   "source": [
    "# Get all tweets from the home feed\n",
    "public_tweet = api.user_timeline(target_terms)"
   ]
  },
  {
   "cell_type": "code",
   "execution_count": 11,
   "metadata": {},
   "outputs": [],
   "source": [
    "# Variables for holding sentiments\n",
    "compound_list = []\n",
    "positive_list = []\n",
    "neutral_list = []\n",
    "negative_list = []"
   ]
  },
  {
   "cell_type": "code",
   "execution_count": null,
   "metadata": {},
   "outputs": [],
   "source": [
    "# Run Vader analysis on each score\n",
    "compound = analyzer.polarity_scores()[\"compound\"]\n",
    "pos = analyzer.polarity_scores()[\"pos\"]\n",
    "neu = analyzer.polarity_scores()[\"neu\"]\n",
    "neg = analyzer.polarity_scores()[\"neg\"]\n",
    "\n",
    "# Add each value to the corresponding category\n",
    "compound_list.append(compound)\n",
    "positive_list.append(pos)\n",
    "neutral_list.append(neu)\n",
    "negative_list.append(neg)\n",
    "\n",
    "# Print the averages for the responses\n",
    "print(\"\")\n",
    "print(\"-\")*20\n",
    "print(\"User: %s\" % target_terms)\n",
    "print(\"Compound: %s\" % np.mean(compound_list))\n",
    "print(\"Positive: %s\" % np.mean(positive_list))\n",
    "print(\"Neutral: %s\" % np.mean(neutral_list))\n",
    "print(\"Negative: %s\" % np.mean(negative_list))\n",
    "print(\"-\")*20"
   ]
  },
  {
   "cell_type": "code",
   "execution_count": null,
   "metadata": {},
   "outputs": [],
   "source": [
    "# Create plot\n",
    "plt.plot(np.range(len(sentiments_pd[\"Compound\"])), sentiments_pd[\"Compound\"], markers=\"o\", linewidth=0.5, alpha=.8)\n",
    "\n",
    "plt.title(\"Sentiment Analysis of Tweets (%s) for %s\" % (time.strftime(\"%x\"), target_terms))\n",
    "plt.ylabel(\" \")\n",
    "plt.xlabel(\" \")\n",
    "plt.show()"
   ]
  }
 ],
 "metadata": {
  "kernelspec": {
   "display_name": "Python 3",
   "language": "python",
   "name": "python3"
  },
  "language_info": {
   "codemirror_mode": {
    "name": "ipython",
    "version": 3
   },
   "file_extension": ".py",
   "mimetype": "text/x-python",
   "name": "python",
   "nbconvert_exporter": "python",
   "pygments_lexer": "ipython3",
   "version": "3.6.4"
  }
 },
 "nbformat": 4,
 "nbformat_minor": 2
}
